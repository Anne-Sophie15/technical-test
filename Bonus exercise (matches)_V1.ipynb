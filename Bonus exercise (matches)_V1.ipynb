{
 "cells": [
  {
   "cell_type": "code",
   "execution_count": 19,
   "metadata": {
    "collapsed": true
   },
   "outputs": [],
   "source": [
    "#! /usr/bin/env python\n",
    "# -*- coding: utf-8 -*-\n",
    "\n",
    "#Bonus exercise: match searches with bookings\n",
    "\n",
    "import csv\n",
    "import numpy\n",
    "\n",
    "dtype_S = []\n",
    "value_S = []\n",
    "\n",
    "dtype_B = []\n",
    "value_B = []\n",
    "\n",
    "#variables containing the files names used for the exercise\n",
    "file_search = 'data_searches.csv' \n",
    "file_bookings = 'data_bookings.csv'\n"
   ]
  },
  {
   "cell_type": "code",
   "execution_count": 20,
   "metadata": {
    "collapsed": false
   },
   "outputs": [],
   "source": [
    "#create a structures matrix that has our searches data\n",
    "csv_reader = csv.reader(open(file_search, 'rb'), delimiter = '^')\n",
    "\n",
    "#create the data type\n",
    "list_data_S = list(csv_reader)\n",
    "for header in list_data_S[0]:\n",
    "    dtype_S.append((header.strip(' '), 'S10'))\n",
    "\n",
    "#format the data\n",
    "for data in list_data_S[1::]:\n",
    "    new_format = []\n",
    "    for info in data:\n",
    "        new_format.append(info.strip(' '))\n",
    "    value_S.append(tuple(new_format))\n",
    "\n",
    "#create the matrix\n",
    "search_matrix = numpy.array(value_S, dtype=dtype_S)\n"
   ]
  },
  {
   "cell_type": "code",
   "execution_count": 21,
   "metadata": {
    "collapsed": true
   },
   "outputs": [],
   "source": [
    "#create a structures matrix that has our booking data\n",
    "csv_reader = csv.reader(open(file_bookings, 'rb'), delimiter = '^')\n",
    "\n",
    "#create the data type\n",
    "list_data_B = list(csv_reader)\n",
    "for header in list_data_B[0]:\n",
    "    dtype_B.append((header.strip(' '), 'S10'))\n",
    "\n",
    "#format the data\n",
    "for data in list_data_B[1::]:\n",
    "    new_format = []\n",
    "    for info in data:\n",
    "        new_format.append(info.strip(' '))\n",
    "    value_B.append(tuple(new_format))\n",
    "\n",
    "#create the matrix\n",
    "booking_matrix = numpy.array(value_B, dtype=dtype_B)\n"
   ]
  },
  {
   "cell_type": "code",
   "execution_count": null,
   "metadata": {
    "collapsed": false
   },
   "outputs": [],
   "source": []
  },
  {
   "cell_type": "code",
   "execution_count": 22,
   "metadata": {
    "collapsed": false
   },
   "outputs": [],
   "source": [
    "#looking at all the searches and finding the corresponding booking if it\n",
    "#exists\n",
    "#search => 'Destination' & 'Origin'\n",
    "#booking => 'arr_port' & dep_port'\n",
    "\n",
    "dep_port_S = search_matrix['Origin']\n",
    "arr_port_S = search_matrix['Destination']\n",
    "\n",
    "dep_port_B = booking_matrix['dep_port']\n",
    "arr_port_B = booking_matrix['arr_port']  \n",
    "\n",
    "search_list = []\n",
    "booking_list = []\n",
    "\n",
    "for i, dep in enumerate(search_matrix['Origin']):\n",
    "    search = (dep, search_matrix['Destination'][i])\n",
    "    search_list.append(search)\n",
    "    \n",
    "for i, dep in enumerate(booking_matrix['dep_port']):\n",
    "    booking = (dep, search_matrix['Destination'][i])\n",
    "    booking_list.append(booking)"
   ]
  },
  {
   "cell_type": "code",
   "execution_count": 23,
   "metadata": {
    "collapsed": false
   },
   "outputs": [
    {
     "name": "stdout",
     "output_type": "stream",
     "text": [
      "[('ZRH', 'AUH'), ('SAL', 'MIL'), ('SAL', 'SFO'), ('AKL', 'ARN'), ('AKL', 'MAD'), ('DEN', 'BLR'), ('DEN', 'PAR'), ('NRT', 'DUB'), ('NRT', 'ACE'), ('NRT', 'BGW'), ('NRT', 'BUD'), ('NRT', 'POA'), ('NRT', 'MXP'), ('NRT', 'LON'), ('NRT', 'SNN'), ('NRT', 'SLZ'), ('NRT', 'PHL'), ('NRT', 'GRU'), ('NRT', 'IKT'), ('YYZ', 'HKG'), ('FCO', 'SEA'), ('FCO', 'STN'), ('BDQ', 'FUE'), ('BDQ', 'IST'), ('BDQ', 'VIE'), ('BDQ', 'SAO'), ('BDQ', 'BRI'), ('BDQ', 'JED'), ('BDQ', 'CPH'), ('BDQ', 'DRS'), ('CDG', 'DUS'), ('CDG', 'VCE'), ('CDG', 'NBC'), ('SIP', 'USM'), ('LIN', 'IAD'), ('LIN', 'BKK'), ('LIN', 'SIN'), ('LIN', 'LKO'), ('DEL', 'BKK'), ('DEL', 'MUC'), ('DEL', 'MNL'), ('DEL', 'BBI'), ('DEL', 'MNL'), ('DEL', 'RSW'), ('SOF', 'CMH'), ('ORY', 'PLS'), ('ORY', 'MIL'), ('ORY', 'HAJ'), ('ORY', 'NKC')]\n",
      "[('TXL', 'AUH'), ('ATH', 'MIL'), ('ICT', 'SFO'), ('RNB', 'ARN'), ('OSL', 'MAD'), ('IAH', 'BLR'), ('CPH', 'PAR'), ('PAR', 'DUB'), ('DUS', 'ACE'), ('FRA', 'BGW'), ('PAR', 'BUD'), ('RIO', 'POA'), ('HKG', 'MXP'), ('BCN', 'LON'), ('CLE', 'SNN'), ('BSB', 'SLZ'), ('PEK', 'PHL'), ('BOS', 'GRU'), ('TBS', 'IKT'), ('LON', 'HKG'), ('MAD', 'SEA'), ('DUS', 'STN'), ('PAD', 'FUE'), ('DUS', 'IST'), ('BHX', 'VIE'), ('CGB', 'SAO'), ('ZRH', 'BRI'), ('RUH', 'JED'), ('UME', 'CPH'), ('FRA', 'DRS'), ('BER', 'DUS'), ('WAW', 'VCE'), ('MOW', 'NBC'), ('FRA', 'USM'), ('FRA', 'IAD'), ('STO', 'BKK'), ('LYS', 'SIN'), ('HYD', 'LKO'), ('CPH', 'BKK'), ('GRZ', 'MUC'), ('DMM', 'MNL'), ('MAA', 'BBI'), ('CPH', 'MNL'), ('BOS', 'RSW'), ('PVG', 'CMH'), ('EWR', 'PLS'), ('STR', 'MIL'), ('TLV', 'HAJ'), ('DUS', 'NKC')]\n"
     ]
    }
   ],
   "source": [
    "print booking_list\n",
    "print search_list"
   ]
  },
  {
   "cell_type": "code",
   "execution_count": 25,
   "metadata": {
    "collapsed": false
   },
   "outputs": [],
   "source": [
    "for i,search in enumerate(search_list):\n",
    "    if search in booking_list:\n",
    "        list_data_S[i+1].append(1)\n",
    "    else:\n",
    "        list_data_S[i+1].append(0)"
   ]
  },
  {
   "cell_type": "code",
   "execution_count": 26,
   "metadata": {
    "collapsed": false
   },
   "outputs": [
    {
     "name": "stdout",
     "output_type": "stream",
     "text": [
      "['2013-01-01', '20:25:57', 'MPT', '624d8c3ac0b3a7ca03e3c167e0f48327', 'DE', 'TXL', 'AUH', '1', '2', 'TXL', 'AUH', '2013-01-26', 'D2', '', 'AUH', 'TXL', '2013-02-02', 'D2', '', '', '', '', '', '', '', '', '', '', '', '', '', '', '', '', '', '', '', '', '', '1ASIWS', '0', '0', '0', 'd41d8cd98f00b204e9800998ecf8427e', 'FRA', 0]\n"
     ]
    }
   ],
   "source": [
    "print list_data_S[1]"
   ]
  },
  {
   "cell_type": "code",
   "execution_count": null,
   "metadata": {
    "collapsed": true
   },
   "outputs": [],
   "source": []
  }
 ],
 "metadata": {
  "kernelspec": {
   "display_name": "Python 2",
   "language": "python",
   "name": "python2"
  },
  "language_info": {
   "codemirror_mode": {
    "name": "ipython",
    "version": 2
   },
   "file_extension": ".py",
   "mimetype": "text/x-python",
   "name": "python",
   "nbconvert_exporter": "python",
   "pygments_lexer": "ipython2",
   "version": "2.7.11"
  }
 },
 "nbformat": 4,
 "nbformat_minor": 0
}
