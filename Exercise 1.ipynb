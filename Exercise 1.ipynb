{
 "cells": [
  {
   "cell_type": "code",
   "execution_count": 3,
   "metadata": {
    "collapsed": false
   },
   "outputs": [
    {
     "name": "stdout",
     "output_type": "stream",
     "text": [
      "There is 20390199 lines in the file searches.csv.\n",
      "\n",
      "There is 10000011 lines in the file bookings.csv.\n",
      "\n"
     ]
    }
   ],
   "source": [
    "#! /usr/bin/env python\n",
    "# -*- coding: utf-8 -*-\n",
    "\n",
    "list_file = ['searches.csv', 'bookings.csv']\n",
    "for file_name in list_file:\n",
    "    nb_line = 0\n",
    "    with open(file_name, 'r') as file:\n",
    "        for line in file:\n",
    "            nb_line += 1\n",
    "      \n",
    "    print 'There is {0} lines in the file {1}.\\n'.format(nb_line, file_name)\n"
   ]
  }
 ],
 "metadata": {
  "kernelspec": {
   "display_name": "Python 2",
   "language": "python",
   "name": "python2"
  },
  "language_info": {
   "codemirror_mode": {
    "name": "ipython",
    "version": 2
   },
   "file_extension": ".py",
   "mimetype": "text/x-python",
   "name": "python",
   "nbconvert_exporter": "python",
   "pygments_lexer": "ipython2",
   "version": "2.7.11"
  }
 },
 "nbformat": 4,
 "nbformat_minor": 0
}
