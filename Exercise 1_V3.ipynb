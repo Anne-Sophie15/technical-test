{
 "cells": [
  {
   "cell_type": "code",
   "execution_count": null,
   "metadata": {
    "collapsed": false
   },
   "outputs": [],
   "source": [
    "#! /usr/bin/env python\n",
    "# -*- coding: utf-8 -*-\n",
    "\n",
    "# 1st exercices\n",
    "# count the number of lines in python for each file\n",
    "\n",
    "import sys\n",
    "\n",
    "if len(sys.argv) < 2:\n",
    "    sys.exit('Error: you need at list 1 argument for this script')\n",
    "    \n",
    "#list of the file names\n",
    "list_file = sys.argv[1::]\n",
    "#list_file = ['searches.csv', 'bookings.csv']\n",
    "\n",
    "for file_name in list_file:\n",
    "    nb_line = 0 #initiate the count\n",
    "    with open(file_name, 'r') as file1:\n",
    "        for line in file1:\n",
    "            nb_line += 1\n",
    "      \n",
    "    print 'There is {0} lines in the file {1}.\\n'.format(nb_line, file_name)\n"
   ]
  },
  {
   "cell_type": "code",
   "execution_count": null,
   "metadata": {
    "collapsed": true
   },
   "outputs": [],
   "source": []
  }
 ],
 "metadata": {
  "kernelspec": {
   "display_name": "Python 2",
   "language": "python",
   "name": "python2"
  },
  "language_info": {
   "codemirror_mode": {
    "name": "ipython",
    "version": 2
   },
   "file_extension": ".py",
   "mimetype": "text/x-python",
   "name": "python",
   "nbconvert_exporter": "python",
   "pygments_lexer": "ipython2",
   "version": "2.7.11"
  }
 },
 "nbformat": 4,
 "nbformat_minor": 0
}
