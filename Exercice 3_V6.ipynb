{
 "cells": [
  {
   "cell_type": "code",
   "execution_count": 10,
   "metadata": {
    "collapsed": true
   },
   "outputs": [],
   "source": [
    "#! /usr/bin/env python\n",
    "# -*- coding: utf-8 -*-\n",
    "\n",
    "# 3rd exercise\n",
    "# plot the monthly number of searches for flights arriving at Málaga, Madrid \n",
    "# or Barcelona\n",
    "\n",
    "import csv\n",
    "import numpy\n",
    "import matplotlib.pyplot as plt\n",
    "import re\n",
    "import sys\n",
    "import pylab\n",
    "\n",
    "file_name = 'data_searches2.csv'\n",
    "\n",
    "#regex \n",
    "regex_month = re.compile(\"[0-9]{4}-([0-9]{2})-[0-9]{2}\")\n",
    "\n",
    "dtype = []\n",
    "value = []\n",
    "\n",
    "city_dico = {'MAD' : 'Madrid',\n",
    "             'BCN' : 'Barcelona',\n",
    "             'AGP' : 'Malaga'}"
   ]
  },
  {
   "cell_type": "code",
   "execution_count": 6,
   "metadata": {
    "collapsed": false
   },
   "outputs": [],
   "source": [
    "#create a structures matrix that has our data\n",
    "csv_reader = csv.reader(open(file_name, 'rb'), delimiter = '^')\n",
    "\n",
    "#create the data type\n",
    "list_data = list(csv_reader)\n",
    "for header in list_data[0]:\n",
    "    dtype.append((header.strip(' '), 'S10'))\n",
    "\n",
    "#format the data\n",
    "for data in list_data[1::]:\n",
    "    new_format = []\n",
    "    for info in data:\n",
    "        new_format.append(info.strip(' '))\n",
    "    value.append(tuple(new_format))\n",
    "\n",
    "#create the matrix\n",
    "data_matrix = numpy.array(value, dtype=dtype)\n"
   ]
  },
  {
   "cell_type": "code",
   "execution_count": 8,
   "metadata": {
    "collapsed": false
   },
   "outputs": [],
   "source": [
    "#array to keep record of the searches\n",
    "mad_stat = numpy.zeros((1,12))\n",
    "bcn_stat = numpy.zeros((1,12))\n",
    "agp_stat = numpy.zeros((1,12))\n",
    "\n",
    "#isolating the destination of interest and the associated dates \n",
    "destination = data_matrix['Destination']\n",
    "date = data_matrix['Seg1Date']\n",
    "\n",
    "for i, city in enumerate(destination):\n",
    "    if city in city_dico.keys():\n",
    "        if regex_month.search(date[i]):\n",
    "            res = regex_month.search(date[i])\n",
    "            month = int(res.group(1))\n",
    "            if city == 'MAD':\n",
    "                mad_stat[0,month-1] += 1\n",
    "            elif city == 'BCN':\n",
    "                bcn_stat[0,month-1] += 1\n",
    "            else:\n",
    "                agp_stat[0,month-1] += 1\n",
    "        else:\n",
    "            sys.exit('error the date is not correctly formated')\n"
   ]
  },
  {
   "cell_type": "code",
   "execution_count": 20,
   "metadata": {
    "collapsed": false
   },
   "outputs": [],
   "source": [
    "#plot the number of searches according to the month\n",
    "title = ''' Number of monthly search fo flights arriving\n",
    "at {0}, {1} and {2} airports'''.format(city_dico['MAD'], \n",
    "                                           city_dico['BCN'],\n",
    "                                           city_dico['AGP'])\n",
    "x = numpy.arange(1,13) #abcsiss array \n",
    "\n",
    "pylab.figure(1) #open figure 1\n",
    "n, bins, patches = pylab.hist([mad_stat[0],bcn_stat[0],agp_stat[0]], x,\n",
    "                              color=['red', 'blue', 'green'],\n",
    "                              label=['Madrid Airport', 'Barcelona Airport',\n",
    "                                     'Malaga Airport'])\n",
    "\n",
    "#axis legends and title\n",
    "pylab.title(title)\n",
    "pylab.xlabel('Months')\n",
    "pylab.ylabel('Number of searches')\n",
    "pylab.legend()\n",
    "pylab.show()"
   ]
  },
  {
   "cell_type": "code",
   "execution_count": null,
   "metadata": {
    "collapsed": true
   },
   "outputs": [],
   "source": []
  }
 ],
 "metadata": {
  "kernelspec": {
   "display_name": "Python 2",
   "language": "python",
   "name": "python2"
  },
  "language_info": {
   "codemirror_mode": {
    "name": "ipython",
    "version": 2
   },
   "file_extension": ".py",
   "mimetype": "text/x-python",
   "name": "python",
   "nbconvert_exporter": "python",
   "pygments_lexer": "ipython2",
   "version": "2.7.11"
  }
 },
 "nbformat": 4,
 "nbformat_minor": 0
}
