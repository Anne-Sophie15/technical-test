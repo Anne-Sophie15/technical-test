{
 "cells": [
  {
   "cell_type": "code",
   "execution_count": 23,
   "metadata": {
    "collapsed": true
   },
   "outputs": [],
   "source": [
    "#! /usr/bin/env python\n",
    "# -*- coding: utf-8 -*-\n",
    "\n",
    "#Bonus exercise: match searches with bookings\n",
    "\n",
    "import csv\n",
    "import numpy\n",
    "\n",
    "dtype_S = []\n",
    "value_S = []\n",
    "\n",
    "dtype_B = []\n",
    "value_B = []\n",
    "\n",
    "#variables containing the files names used for the exercise\n",
    "file_search = 'data_searches.csv' \n",
    "file_bookings = 'data_bookings.csv'\n"
   ]
  },
  {
   "cell_type": "code",
   "execution_count": 24,
   "metadata": {
    "collapsed": false
   },
   "outputs": [],
   "source": [
    "#create a structures matrix that has our searches data\n",
    "csv_reader = csv.reader(open(file_search, 'rb'), delimiter = '^')\n",
    "\n",
    "#create the data type\n",
    "list_data_S = list(csv_reader)\n",
    "for header in list_data_S[0]:\n",
    "    dtype_S.append((header.strip(' '), 'S10'))\n",
    "\n",
    "#format the data\n",
    "for data in list_data_S[1::]:\n",
    "    new_format = []\n",
    "    for info in data:\n",
    "        new_format.append(info.strip(' '))\n",
    "    value_S.append(tuple(new_format))\n",
    "\n",
    "#create the matrix\n",
    "search_matrix = numpy.array(value_S, dtype=dtype_S)\n"
   ]
  },
  {
   "cell_type": "code",
   "execution_count": 25,
   "metadata": {
    "collapsed": true
   },
   "outputs": [],
   "source": [
    "#create a structures matrix that has our booking data\n",
    "csv_reader = csv.reader(open(file_bookings, 'rb'), delimiter = '^')\n",
    "\n",
    "#create the data type\n",
    "list_data_B = list(csv_reader)\n",
    "for header in list_data_B[0]:\n",
    "    dtype_B.append((header.strip(' '), 'S10'))\n",
    "\n",
    "#format the data\n",
    "for data in list_data_B[1::]:\n",
    "    new_format = []\n",
    "    for info in data:\n",
    "        new_format.append(info.strip(' '))\n",
    "    value_B.append(tuple(new_format))\n",
    "\n",
    "#create the matrix\n",
    "booking_matrix = numpy.array(value_B, dtype=dtype_B)\n"
   ]
  },
  {
   "cell_type": "code",
   "execution_count": null,
   "metadata": {
    "collapsed": false
   },
   "outputs": [],
   "source": []
  },
  {
   "cell_type": "code",
   "execution_count": 26,
   "metadata": {
    "collapsed": false
   },
   "outputs": [],
   "source": [
    "#looking at all the searches and finding the corresponding booking if it\n",
    "#exists\n",
    "#search => 'Destination' & 'Origin'\n",
    "#booking => 'arr_port' & dep_port'\n",
    "\n",
    "dep_port_S = search_matrix['Origin']\n",
    "arr_port_S = search_matrix['Destination']\n",
    "\n",
    "dep_port_B = booking_matrix['dep_port']\n",
    "arr_port_B = booking_matrix['arr_port']  \n",
    "\n",
    "search_list = []\n",
    "booking_list = []\n",
    "\n",
    "for i, dep in enumerate(search_matrix['Origin']):\n",
    "    search = (dep, search_matrix['Destination'][i])\n",
    "    search_list.append(search)\n",
    "    \n",
    "for i, dep in enumerate(booking_matrix['dep_port']):\n",
    "    booking = (dep, search_matrix['Destination'][i])\n",
    "    booking_list.append(booking)"
   ]
  },
  {
   "cell_type": "code",
   "execution_count": 27,
   "metadata": {
    "collapsed": false
   },
   "outputs": [],
   "source": [
    "#print booking_list\n",
    "#print search_list"
   ]
  },
  {
   "cell_type": "code",
   "execution_count": 28,
   "metadata": {
    "collapsed": false
   },
   "outputs": [],
   "source": [
    "for i,search in enumerate(search_list):\n",
    "    if search in booking_list:\n",
    "        list_data_S[i + 1].append('1') \n",
    "        #the first list of this list of list is the colons names\n",
    "    else:\n",
    "        list_data_S[i + 1].append('0')\n",
    "        #the first list of this list of list is the colons names"
   ]
  },
  {
   "cell_type": "code",
   "execution_count": 29,
   "metadata": {
    "collapsed": true
   },
   "outputs": [],
   "source": [
    "#add the header to the last colon\n",
    "list_data_S[0].append('Booking')\n",
    "new_data_search = numpy.asarray(list_data_S)\n"
   ]
  },
  {
   "cell_type": "code",
   "execution_count": 30,
   "metadata": {
    "collapsed": false
   },
   "outputs": [],
   "source": [
    "#print list_data_S"
   ]
  },
  {
   "cell_type": "code",
   "execution_count": 31,
   "metadata": {
    "collapsed": false
   },
   "outputs": [
    {
     "ename": "TypeError",
     "evalue": "Mismatch between array dtype ('|S32') and format specifier ('%.18e^%.18e^%.18e^%.18e^%.18e^%.18e^%.18e^%.18e^%.18e^%.18e^%.18e^%.18e^%.18e^%.18e^%.18e^%.18e^%.18e^%.18e^%.18e^%.18e^%.18e^%.18e^%.18e^%.18e^%.18e^%.18e^%.18e^%.18e^%.18e^%.18e^%.18e^%.18e^%.18e^%.18e^%.18e^%.18e^%.18e^%.18e^%.18e^%.18e^%.18e^%.18e^%.18e^%.18e^%.18e^%.18e')",
     "output_type": "error",
     "traceback": [
      "\u001b[1;31m---------------------------------------------------------------------------\u001b[0m",
      "\u001b[1;31mTypeError\u001b[0m                                 Traceback (most recent call last)",
      "\u001b[1;32m<ipython-input-31-9e4c6ab6920f>\u001b[0m in \u001b[0;36m<module>\u001b[1;34m()\u001b[0m\n\u001b[1;32m----> 1\u001b[1;33m \u001b[0mnumpy\u001b[0m\u001b[1;33m.\u001b[0m\u001b[0msavetxt\u001b[0m\u001b[1;33m(\u001b[0m\u001b[1;34m'new_searches.csv'\u001b[0m\u001b[1;33m,\u001b[0m \u001b[0mlist_data_S\u001b[0m\u001b[1;33m,\u001b[0m \u001b[0mdelimiter\u001b[0m\u001b[1;33m=\u001b[0m\u001b[1;34m'^'\u001b[0m\u001b[1;33m)\u001b[0m\u001b[1;33m\u001b[0m\u001b[0m\n\u001b[0m",
      "\u001b[1;32mC:\\Users\\ABT9\\AppData\\Local\\Continuum\\Anaconda2\\lib\\site-packages\\numpy\\lib\\npyio.pyc\u001b[0m in \u001b[0;36msavetxt\u001b[1;34m(fname, X, fmt, delimiter, newline, header, footer, comments)\u001b[0m\n\u001b[0;32m   1158\u001b[0m                     raise TypeError(\"Mismatch between array dtype ('%s') and \"\n\u001b[0;32m   1159\u001b[0m                                     \u001b[1;34m\"format specifier ('%s')\"\u001b[0m\u001b[1;33m\u001b[0m\u001b[0m\n\u001b[1;32m-> 1160\u001b[1;33m                                     % (str(X.dtype), format))\n\u001b[0m\u001b[0;32m   1161\u001b[0m         \u001b[1;32mif\u001b[0m \u001b[0mlen\u001b[0m\u001b[1;33m(\u001b[0m\u001b[0mfooter\u001b[0m\u001b[1;33m)\u001b[0m \u001b[1;33m>\u001b[0m \u001b[1;36m0\u001b[0m\u001b[1;33m:\u001b[0m\u001b[1;33m\u001b[0m\u001b[0m\n\u001b[0;32m   1162\u001b[0m             \u001b[0mfooter\u001b[0m \u001b[1;33m=\u001b[0m \u001b[0mfooter\u001b[0m\u001b[1;33m.\u001b[0m\u001b[0mreplace\u001b[0m\u001b[1;33m(\u001b[0m\u001b[1;34m'\\n'\u001b[0m\u001b[1;33m,\u001b[0m \u001b[1;34m'\\n'\u001b[0m \u001b[1;33m+\u001b[0m \u001b[0mcomments\u001b[0m\u001b[1;33m)\u001b[0m\u001b[1;33m\u001b[0m\u001b[0m\n",
      "\u001b[1;31mTypeError\u001b[0m: Mismatch between array dtype ('|S32') and format specifier ('%.18e^%.18e^%.18e^%.18e^%.18e^%.18e^%.18e^%.18e^%.18e^%.18e^%.18e^%.18e^%.18e^%.18e^%.18e^%.18e^%.18e^%.18e^%.18e^%.18e^%.18e^%.18e^%.18e^%.18e^%.18e^%.18e^%.18e^%.18e^%.18e^%.18e^%.18e^%.18e^%.18e^%.18e^%.18e^%.18e^%.18e^%.18e^%.18e^%.18e^%.18e^%.18e^%.18e^%.18e^%.18e^%.18e')"
     ]
    }
   ],
   "source": [
    "numpy.savetxt('new_searches.csv', list_data_S, delimiter='^')"
   ]
  },
  {
   "cell_type": "code",
   "execution_count": null,
   "metadata": {
    "collapsed": true
   },
   "outputs": [],
   "source": []
  }
 ],
 "metadata": {
  "kernelspec": {
   "display_name": "Python 2",
   "language": "python",
   "name": "python2"
  },
  "language_info": {
   "codemirror_mode": {
    "name": "ipython",
    "version": 2
   },
   "file_extension": ".py",
   "mimetype": "text/x-python",
   "name": "python",
   "nbconvert_exporter": "python",
   "pygments_lexer": "ipython2",
   "version": "2.7.11"
  }
 },
 "nbformat": 4,
 "nbformat_minor": 0
}
