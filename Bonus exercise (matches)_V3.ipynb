{
 "cells": [
  {
   "cell_type": "code",
   "execution_count": 1,
   "metadata": {
    "collapsed": true
   },
   "outputs": [],
   "source": [
    "#! /usr/bin/env python\n",
    "# -*- coding: utf-8 -*-\n",
    "\n",
    "#Bonus exercise: match searches with bookings\n",
    "\n",
    "import csv\n",
    "import numpy\n",
    "\n",
    "dtype_S = []\n",
    "value_S = []\n",
    "\n",
    "dtype_B = []\n",
    "value_B = []\n",
    "\n",
    "#variables containing the files names used for the exercise\n",
    "file_search = 'data_searches.csv' \n",
    "file_bookings = 'data_bookings.csv'\n"
   ]
  },
  {
   "cell_type": "code",
   "execution_count": 2,
   "metadata": {
    "collapsed": true
   },
   "outputs": [],
   "source": [
    "def write_file(file_name, matrix, delemiter):\n",
    "    with open(file_name, 'w') as fichier:\n",
    "        for line in matrix:\n",
    "            txt_line = ''\n",
    "            for elem in line:\n",
    "                txt_line = '{0}{1}{2}'.format(txt_line, delemiter, elem)\n",
    "            fichier.write(txt_line + '\\n')"
   ]
  },
  {
   "cell_type": "code",
   "execution_count": 3,
   "metadata": {
    "collapsed": false
   },
   "outputs": [],
   "source": [
    "#create a structures matrix that has our searches data\n",
    "csv_reader = csv.reader(open(file_search, 'rb'), delimiter = '^')\n",
    "\n",
    "#create the data type\n",
    "list_data_S = list(csv_reader)\n",
    "for header in list_data_S[0]:\n",
    "    dtype_S.append((header.strip(' '), 'S10'))\n",
    "\n",
    "#format the data\n",
    "for data in list_data_S[1::]:\n",
    "    new_format = []\n",
    "    for info in data:\n",
    "        new_format.append(info.strip(' '))\n",
    "    value_S.append(tuple(new_format))\n",
    "\n",
    "#create the matrix\n",
    "search_matrix = numpy.array(value_S, dtype=dtype_S)\n"
   ]
  },
  {
   "cell_type": "code",
   "execution_count": 4,
   "metadata": {
    "collapsed": true
   },
   "outputs": [],
   "source": [
    "#create a structures matrix that has our booking data\n",
    "csv_reader = csv.reader(open(file_bookings, 'rb'), delimiter = '^')\n",
    "\n",
    "#create the data type\n",
    "list_data_B = list(csv_reader)\n",
    "for header in list_data_B[0]:\n",
    "    dtype_B.append((header.strip(' '), 'S10'))\n",
    "\n",
    "#format the data\n",
    "for data in list_data_B[1::]:\n",
    "    new_format = []\n",
    "    for info in data:\n",
    "        new_format.append(info.strip(' '))\n",
    "    value_B.append(tuple(new_format))\n",
    "\n",
    "#create the matrix\n",
    "booking_matrix = numpy.array(value_B, dtype=dtype_B)\n"
   ]
  },
  {
   "cell_type": "code",
   "execution_count": null,
   "metadata": {
    "collapsed": false
   },
   "outputs": [],
   "source": []
  },
  {
   "cell_type": "code",
   "execution_count": 5,
   "metadata": {
    "collapsed": false
   },
   "outputs": [],
   "source": [
    "#looking at all the searches and finding the corresponding booking if it\n",
    "#exists\n",
    "#search => 'Destination' & 'Origin'\n",
    "#booking => 'arr_port' & dep_port'\n",
    "\n",
    "search_list = []\n",
    "booking_list = []\n",
    "\n",
    "#creating a list of tuple that contains the origin and destination of the \n",
    "#search file\n",
    "for i, dep in enumerate(search_matrix['Origin']):\n",
    "    search = (dep, search_matrix['Destination'][i])\n",
    "    search_list.append(search)\n",
    "\n",
    "#creating a list of tuple that contains the origin and destination of the \n",
    "#booking file\n",
    "for i, dep in enumerate(booking_matrix['dep_port']):\n",
    "    booking = (dep, search_matrix['Destination'][i])\n",
    "    booking_list.append(booking)"
   ]
  },
  {
   "cell_type": "code",
   "execution_count": null,
   "metadata": {
    "collapsed": false
   },
   "outputs": [],
   "source": [
    "#print booking_list\n",
    "#print search_list"
   ]
  },
  {
   "cell_type": "code",
   "execution_count": null,
   "metadata": {
    "collapsed": false
   },
   "outputs": [],
   "source": [
    "for i,search in enumerate(search_list):\n",
    "    if search in booking_list:\n",
    "        list_data_S[i + 1].append('1') \n",
    "        #the first list of this list of list is the colons names\n",
    "        print('ok')\n",
    "    else:\n",
    "        list_data_S[i + 1].append('0')\n",
    "        #the first list of this list of list is the colons names"
   ]
  },
  {
   "cell_type": "code",
   "execution_count": null,
   "metadata": {
    "collapsed": true
   },
   "outputs": [],
   "source": [
    "#add the header to the last colon\n",
    "list_data_S[0].append('Booking')\n",
    "new_data_search = numpy.asarray(list_data_S)\n"
   ]
  },
  {
   "cell_type": "code",
   "execution_count": null,
   "metadata": {
    "collapsed": false
   },
   "outputs": [],
   "source": [
    "#print list_data_S"
   ]
  },
  {
   "cell_type": "code",
   "execution_count": null,
   "metadata": {
    "collapsed": false
   },
   "outputs": [],
   "source": [
    "write_file('new_searches.csv', list_data_S, '^')"
   ]
  },
  {
   "cell_type": "code",
   "execution_count": null,
   "metadata": {
    "collapsed": true
   },
   "outputs": [],
   "source": []
  }
 ],
 "metadata": {
  "kernelspec": {
   "display_name": "Python 2",
   "language": "python",
   "name": "python2"
  },
  "language_info": {
   "codemirror_mode": {
    "name": "ipython",
    "version": 2
   },
   "file_extension": ".py",
   "mimetype": "text/x-python",
   "name": "python",
   "nbconvert_exporter": "python",
   "pygments_lexer": "ipython2",
   "version": "2.7.11"
  }
 },
 "nbformat": 4,
 "nbformat_minor": 0
}
