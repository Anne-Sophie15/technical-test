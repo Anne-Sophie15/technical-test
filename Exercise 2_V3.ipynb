{
 "cells": [
  {
   "cell_type": "code",
   "execution_count": 1,
   "metadata": {
    "collapsed": true
   },
   "outputs": [],
   "source": [
    "#! /usr/bin/env python\n",
    "# -*- coding: utf-8 -*-\n",
    "\n",
    "# 2nd exercices\n",
    "# top 10 arrival airports in the world in 2013 (using the bookings file)\n",
    "\n",
    "import numpy\n",
    "import csv\n",
    "\n",
    "dtype = []\n",
    "value = []\n",
    "top = 2 # define the number of airport we select\n",
    "file_name = 'test.csv' # file used to do the exercise"
   ]
  },
  {
   "cell_type": "code",
   "execution_count": 2,
   "metadata": {
    "collapsed": true
   },
   "outputs": [],
   "source": [
    "def remove_duplicate(list):\n",
    "    new_list = []\n",
    "    for element in list:\n",
    "        if element in new_list:\n",
    "            continue\n",
    "        else:\n",
    "            new_list.append(element)\n",
    "    return new_list"
   ]
  },
  {
   "cell_type": "code",
   "execution_count": 3,
   "metadata": {
    "collapsed": false
   },
   "outputs": [],
   "source": [
    "#create a structures matrix that has our data\n",
    "csv_reader = csv.reader(open(file_name, 'rb'), delimiter = '^')\n",
    "\n",
    "#create the data type\n",
    "list_data = list(csv_reader)\n",
    "for header in list_data[0]:\n",
    "    dtype.append((header.strip(' '), 'S10'))\n",
    "\n",
    "#format the data\n",
    "for data in list_data[1::]:\n",
    "    new_format = []\n",
    "    for info in data:\n",
    "        new_format.append(info.strip(' '))\n",
    "    value.append(tuple(new_format))\n",
    "\n",
    "#create the matrix\n",
    "data_matrix = numpy.array(value, dtype=dtype)"
   ]
  },
  {
   "cell_type": "code",
   "execution_count": 4,
   "metadata": {
    "collapsed": false
   },
   "outputs": [
    {
     "name": "stdout",
     "output_type": "stream",
     "text": [
      "{'CLT': 0, 'SVO': 0, 'LGA': 0, 'LHR': 0, 'SIN': 0}\n",
      "['LHR', 'CLT', 'SVO', 'LGA', 'SIN']\n"
     ]
    }
   ],
   "source": [
    "#determining the list of airports\n",
    "arr_port=data_matrix['arr_port']\n",
    "list_airp = remove_duplicate(arr_port)\n",
    "\n",
    "# associating the number of passenger to the airport\n",
    "nb_pass = {}\n",
    "#creating  dictionnary from the non redondant list of airport\n",
    "for airport in list_airp:\n",
    "    nb_pass[airport] = 0\n",
    "    \n",
    "passenger = data_matrix['pax']\n",
    "for i, nb in enumerate(passenger):\n",
    "    airp = arr_port[i]\n",
    "    nb_pass[airp] = nb_pass[airp] + int(nb)\n"
   ]
  },
  {
   "cell_type": "code",
   "execution_count": 5,
   "metadata": {
    "collapsed": false
   },
   "outputs": [
    {
     "name": "stdout",
     "output_type": "stream",
     "text": [
      "The top 2 arrival airports are:\n",
      "SIN with 4 passengers\n",
      "CLT with 2 passengers\n"
     ]
    }
   ],
   "source": [
    "#sorting the dictionary in a decreasing order\n",
    "ordered_airp = sorted(nb_pass, key=nb_pass.__getitem__, reverse = True)\n",
    "\n",
    "print 'The top {0} arrival airports are:'.format(top)\n",
    "for airp in ordered_airp[0:top]:\n",
    "    print '{0} with {1} passengers'.format(airp, nb_pass[airp])"
   ]
  },
  {
   "cell_type": "code",
   "execution_count": null,
   "metadata": {
    "collapsed": true
   },
   "outputs": [],
   "source": []
  }
 ],
 "metadata": {
  "kernelspec": {
   "display_name": "Python 2",
   "language": "python",
   "name": "python2"
  },
  "language_info": {
   "codemirror_mode": {
    "name": "ipython",
    "version": 2
   },
   "file_extension": ".py",
   "mimetype": "text/x-python",
   "name": "python",
   "nbconvert_exporter": "python",
   "pygments_lexer": "ipython2",
   "version": "2.7.11"
  }
 },
 "nbformat": 4,
 "nbformat_minor": 0
}
