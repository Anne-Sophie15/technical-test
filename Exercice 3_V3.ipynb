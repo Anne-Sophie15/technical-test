{
 "cells": [
  {
   "cell_type": "code",
   "execution_count": 19,
   "metadata": {
    "collapsed": true
   },
   "outputs": [],
   "source": [
    "#! /usr/bin/env python\n",
    "# -*- coding: utf-8 -*-\n",
    "\n",
    "# 3rd exercise\n",
    "# plot the monthly number of searches for flights arriving at Málaga, Madrid \n",
    "# or Barcelona\n",
    "\n",
    "import csv\n",
    "import numpy\n",
    "import matplotlib\n",
    "import re\n",
    "\n",
    "dtype = []\n",
    "value = []\n",
    "\n",
    "city_dico = {'MAD' : 'Madrid',\n",
    "             'BCN' : 'Barcelona',\n",
    "             'AGP' : 'Malaga'}"
   ]
  },
  {
   "cell_type": "code",
   "execution_count": 20,
   "metadata": {
    "collapsed": false
   },
   "outputs": [],
   "source": [
    "#create a structures matrix that has our data\n",
    "csv_reader = csv.reader(open('test2.csv', 'rb'), delimiter = '^')\n",
    "\n",
    "#create the data type\n",
    "list_data = list(csv_reader)\n",
    "for header in list_data[0]:\n",
    "    dtype.append((header.strip(' '), 'S10'))\n",
    "\n",
    "#format the data\n",
    "for data in list_data[1::]:\n",
    "    new_format = []\n",
    "    for info in data:\n",
    "        new_format.append(info.strip(' '))\n",
    "    value.append(tuple(new_format))\n",
    "\n",
    "#create the matrix\n",
    "data_matrix = numpy.array(value, dtype=dtype)\n"
   ]
  },
  {
   "cell_type": "code",
   "execution_count": 17,
   "metadata": {
    "collapsed": false
   },
   "outputs": [
    {
     "name": "stdout",
     "output_type": "stream",
     "text": [
      "('2013-01-01', '10:15:33', 'MPT', 'b0af35b315', 'MD', 'ATH', 'MIL', '0', '1', 'ATH', 'MIL', '2013-01-04', '', '', '', '', '', '', '', '', '', '', '', '', '', '', '', '', '', '', '', '', '', '', '', '', '', '', '', '1ASIWS', '0', '0', '0', 'd41d8cd98f', 'KIV')\n"
     ]
    }
   ],
   "source": [
    "print data_matrix[1]"
   ]
  },
  {
   "cell_type": "code",
   "execution_count": 18,
   "metadata": {
    "collapsed": false
   },
   "outputs": [
    {
     "name": "stdout",
     "output_type": "stream",
     "text": [
      "['AUH' 'MIL' 'SFO' 'ARN' 'MAD' 'BLR' 'PAR' 'DUB' 'ACE' 'BGW' 'BUD' 'POA'\n",
      " 'MXP' 'LON' 'SNN' 'SLZ' 'PHL' 'GRU' 'IKT']\n",
      "['2013-01-26' '2013-01-04' '2013-08-02' '2013-01-02' '2013-03-22'\n",
      " '2013-02-14' '2013-03-02' '2013-02-12' '2013-03-30' '2013-02-26'\n",
      " '2013-03-14' '2013-02-01' '2013-05-21' '2013-01-30' '2013-06-05'\n",
      " '2013-04-23' '2013-02-22' '2013-01-04' '2013-04-02']\n"
     ]
    }
   ],
   "source": [
    "#regex \n",
    "regex_month = re.compile(\"[0-9]{4}-([0-9]{2])-[0-9]{2}\")\n",
    "\n",
    "#isolating the destination of interest and the associated dates \n",
    "mad_stat = numpy.ones(1,12)\n",
    "bcn_stat = numpy.ones(1,12)\n",
    "agp_stat = numpy.ones(1,12)\n",
    "\n",
    "destination = data_matrix['Destination']\n",
    "date = data_matrix['Seg1Date']\n",
    "for i, city in enumerate(destination):\n",
    "    if destination in city_dico.keys():\n",
    "        if regex_month.search(date[i]):\n",
    "            res = regex_month.search(date[i])\n",
    "            month = int(res.group(2))\n",
    "            if destination == 'MAD':\n",
    "                mad_stat[month] += 1\n",
    "            elif destination == 'BCN':\n",
    "                bnc_stat[month] += 1\n",
    "            else:\n",
    "                agp_stat[month] += 1\n",
    "        else:\n",
    "            sys.exit('error the date is not correctly formated')\n",
    "\n",
    "print(destination)\n",
    "print(date)"
   ]
  },
  {
   "cell_type": "code",
   "execution_count": null,
   "metadata": {
    "collapsed": true
   },
   "outputs": [],
   "source": []
  },
  {
   "cell_type": "code",
   "execution_count": 10,
   "metadata": {
    "collapsed": false
   },
   "outputs": [
    {
     "name": "stdout",
     "output_type": "stream",
     "text": [
      "[('Date', 'S10'), ('Time', 'S10'), ('TxnCode', 'S10'), ('OfficeID', 'S10'), ('Country', 'S10'), ('Origin', 'S10'), ('Destination', 'S10'), ('RoundTrip', 'S10'), ('NbSegments', 'S10'), ('Seg1Departure', 'S10'), ('Seg1Arrival', 'S10'), ('Seg1Date', 'S10'), ('Seg1Carrier', 'S10'), ('Seg1BookingCode', 'S10'), ('Seg2Departure', 'S10'), ('Seg2Arrival', 'S10'), ('Seg2Date', 'S10'), ('Seg2Carrier', 'S10'), ('Seg2BookingCode', 'S10'), ('Seg3Departure', 'S10'), ('Seg3Arrival', 'S10'), ('Seg3Date', 'S10'), ('Seg3Carrier', 'S10'), ('Seg3BookingCode', 'S10'), ('Seg4Departure', 'S10'), ('Seg4Arrival', 'S10'), ('Seg4Date', 'S10'), ('Seg4Carrier', 'S10'), ('Seg4BookingCode', 'S10'), ('Seg5Departure', 'S10'), ('Seg5Arrival', 'S10'), ('Seg5Date', 'S10'), ('Seg5Carrier', 'S10'), ('Seg5BookingCode', 'S10'), ('Seg6Departure', 'S10'), ('Seg6Arrival', 'S10'), ('Seg6Date', 'S10'), ('Seg6Carrier', 'S10'), ('Seg6BookingCode', 'S10'), ('From', 'S10'), ('IsPublishedForNeg', 'S10'), ('IsFromInternet', 'S10'), ('IsFromVista', 'S10'), ('TerminalID', 'S10'), ('InternetOffice', 'S10')]\n"
     ]
    }
   ],
   "source": [
    "print dtype"
   ]
  },
  {
   "cell_type": "code",
   "execution_count": null,
   "metadata": {
    "collapsed": true
   },
   "outputs": [],
   "source": []
  }
 ],
 "metadata": {
  "kernelspec": {
   "display_name": "Python 2",
   "language": "python",
   "name": "python2"
  },
  "language_info": {
   "codemirror_mode": {
    "name": "ipython",
    "version": 2
   },
   "file_extension": ".py",
   "mimetype": "text/x-python",
   "name": "python",
   "nbconvert_exporter": "python",
   "pygments_lexer": "ipython2",
   "version": "2.7.11"
  }
 },
 "nbformat": 4,
 "nbformat_minor": 0
}
